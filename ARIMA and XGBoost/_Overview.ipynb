{
 "cells": [
  {
   "cell_type": "markdown",
   "id": "250d16be",
   "metadata": {},
   "source": [
    "###### A Thesis Project Implementation by Jonaz Juan C. Sayson & Fabiola C. Villanueva\n",
    "\n",
    "# **Overview**\n",
    "\n",
    "**File directory to navigate thesis documents**\n",
    "- [Thesis 1 Folder w/ Coordinator - Ma'am Angie's Repository](https://drive.google.com/drive/folders/1bmlvAZ48OO_x0FeJwNeFApREnnMAjGbk?usp=drive_link)\n",
    "- [Thesis 2 Folder w/ Coordinator - Ma'am Angie's Repository](https://drive.google.com/drive/folders/1fW-gMpYrddVQWbUgRxNAJkaaOz4uQm0s?usp=drive_link)\n",
    "- [Shared Thesis Folder w/ Advisor - Ma'am Bandalan's Repository](https://drive.google.com/drive/folders/1O_C4ipOk0lsHrPOrwTZ2CEQ1OYvU3e6g?usp=drive_link)\n",
    "\n",
    "This file intends to cover a brief over and guide on our study entitled **\"MODELING AND FORECASTING GENRE POPULARITY IN SPOTIFY MUSIC THROUGH AUDIO FEATURE ANALYSIS USING XGBOOST AND ARIMA TIME SERIES MODELING\"** as our undergraduate thesis for the academic year 2024-2025. This study derives its dataset [**\"Spotify Music Dataset\" by Solomon Ameh from Kaggle**](https://www.kaggle.com/datasets/solomonameh/spotify-music-dataset?resource=download) and intends to clean, aggregate, implement genre forecast modeling and audio feature analysis as per the thesis study.\n"
   ]
  },
  {
   "cell_type": "markdown",
   "id": "ee584f76",
   "metadata": {},
   "source": [
    "### **About**\n",
    "\n",
    "### **Objective**\n",
    "\n",
    "### **Dataset**"
   ]
  }
 ],
 "metadata": {
  "kernelspec": {
   "display_name": "Python 3",
   "language": "python",
   "name": "python3"
  },
  "language_info": {
   "codemirror_mode": {
    "name": "ipython",
    "version": 3
   },
   "file_extension": ".py",
   "mimetype": "text/x-python",
   "name": "python",
   "nbconvert_exporter": "python",
   "pygments_lexer": "ipython3",
   "version": "3.14.0"
  }
 },
 "nbformat": 4,
 "nbformat_minor": 5
}
